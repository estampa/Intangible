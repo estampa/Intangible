{
  "nbformat": 4,
  "nbformat_minor": 0,
  "metadata": {
    "colab": {
      "provenance": [],
      "collapsed_sections": []
    },
    "kernelspec": {
      "name": "python3",
      "display_name": "Python 3"
    },
    "accelerator": "GPU"
  },
  "cells": [
    {
      "cell_type": "code",
      "metadata": {
        "id": "UCMFMJV7K-ag",
        "cellView": "form"
      },
      "source": [
        "#@title <b><font color=\"red\" size=\"+3\">↓</font><font color=\"black\" size=\"+3\"> Configuració 🏗️</font></b> \n",
        "\n",
        "!python -m pip install paddlepaddle-gpu==2.3.2 -f https://mirror.baidu.com/pypi/simple\n",
        "!git clone https://github.com/PaddlePaddle/PaddleGAN\n",
        "%cd /content/PaddleGAN\n",
        "!python setup.py develop\n",
        "!pip install -r requirements.txt\n",
        "!python -m pip install visualdl -i https://mirror.baidu.com/pypi/simple\n",
        "\n",
        "!sudo apt install imagemagick\n",
        "\n",
        "from IPython.display import clear_output\n",
        "clear_output()"
      ],
      "execution_count": null,
      "outputs": []
    },
    {
      "cell_type": "code",
      "metadata": {
        "id": "66q21N0NLGl2",
        "cellView": "form"
      },
      "source": [
        "#@title <b><font color=\"red\" size=\"+3\">↓</font><font color=\"black\" size=\"+3\"> Pujar el vídeo de la locució 🧑📹</font></b> \n",
        "\n",
        "#@markdown **Podeu fer el crop del vídeo aquí: https://ezgif.com/crop-video**\n",
        "\n",
        "#@markdown **Podeu convertir el vídeo aquí: https://convert-video-online.com**\n",
        "\n",
        "%cd /content/PaddleGAN/\n",
        "\n",
        "!rm -rf video\n",
        "!mkdir video\n",
        "\n",
        "import os\n",
        "from google.colab import files\n",
        "from IPython.display import clear_output\n",
        "\n",
        "\n",
        "uploaded = list(files.upload().keys())\n",
        "\n",
        "if len(uploaded) > 1:\n",
        "  raise ValueError('You cannot upload more than one video at a time!')\n",
        "\n",
        "vid = uploaded[0]\n",
        "os.rename(vid, vid.replace(\" \", \"\"))\n",
        "vid = vid.replace(\" \", \"\")\n",
        "!mv -f $vid video/driving.mp4\n",
        "vid = 'video/driving.mp4'\n",
        "\n",
        "clear_output()"
      ],
      "execution_count": null,
      "outputs": []
    },
    {
      "cell_type": "code",
      "metadata": {
        "id": "5KgotDMnL4pN",
        "cellView": "form"
      },
      "source": [
        "#@title <b><font color=\"red\" size=\"+3\">↓</font><font color=\"black\" size=\"+3\"> Pujar el retrat ✏😐</font></b> \n",
        "\n",
        "%cd /content/PaddleGAN/\n",
        "\n",
        "!rm -rf raw_images\n",
        "!mkdir raw_images\n",
        "uploaded = files.upload()\n",
        "\n",
        "i = 0\n",
        "raw_photolist = []\n",
        "for fn in uploaded.keys():\n",
        "  print('User uploaded file \"{name}\" with length {length} bytes'.format(\n",
        "      name=fn, length=len(uploaded[fn])))\n",
        "  os.rename(fn, fn.replace(\" \", \"\"))\n",
        "  fn = fn.replace(\" \", \"\")\n",
        "  pho = \"photo-\" + str(i) + \".\" + fn.split(\".\")[1]\n",
        "  !mv -f $fn raw_images/$pho\n",
        "  !mogrify -resize 512x512! raw_images/$pho\n",
        "  raw_photolist.append(pho)\n",
        "  i += 1\n",
        "\n",
        "clear_output()"
      ],
      "execution_count": null,
      "outputs": []
    },
    {
      "cell_type": "code",
      "source": [
        "#@title <b><font color=\"red\" size=\"+3\">↓</font><font color=\"black\" size=\"+3\"> Genera el deepfake ⚙</font></b> \n",
        "\n",
        "%cd /content/PaddleGAN/applications/\n",
        "\n",
        "for PHOTO in raw_photolist:\n",
        "  !python -u tools/first-order-demo.py  \\\n",
        "     --driving_video '../video/driving.mp4' \\\n",
        "     --source_image '../raw_images/{PHOTO}' \\\n",
        "     --ratio 0.4 \\\n",
        "     --relative \\\n",
        "     --adapt_scale \\\n",
        "     --image_size 512 \\\n",
        "     --filename '{PHOTO}.mp4'"
      ],
      "metadata": {
        "cellView": "form",
        "id": "wgu4PlgZPkAp"
      },
      "execution_count": null,
      "outputs": []
    },
    {
      "cell_type": "code",
      "source": [
        "#@title <b><font color=\"red\" size=\"+3\">↓</font><font color=\"black\" size=\"+3\"> Mostra el deepfake 📺</font></b> \n",
        "\n",
        "\n",
        "import io\n",
        "import base64\n",
        "from IPython.display import HTML\n",
        "\n",
        "play_html = ''\n",
        "for PHOTO in raw_photolist:\n",
        "    video = io.open('/content/PaddleGAN/applications/output/%s.mp4' % PHOTO, 'r+b').read()\n",
        "    encoded = base64.b64encode(video)\n",
        "    play_html = play_html + ('<video alt=\"test\" controls><source src=\"data:video/mp4;base64,{0}\" type=\"video/mp4\" /> </video>'.format(encoded.decode('ascii')))\n",
        "\n",
        "clear_output()\n",
        "HTML(data=play_html)"
      ],
      "metadata": {
        "cellView": "form",
        "id": "rfKcdwkEU1bV"
      },
      "execution_count": null,
      "outputs": []
    },
    {
      "cell_type": "code",
      "metadata": {
        "id": "fPvB7h3IPp6m",
        "cellView": "form"
      },
      "source": [
        "#@title <b><font color=\"red\" size=\"+3\">↓</font><font color=\"black\" size=\"+3\"> Descarrega el resultat ⏬</font></b> \n",
        "\n",
        "!zip -FSr /content/PaddleGAN/applications/output.zip /content/PaddleGAN/applications/output\n",
        "files.download('/content/PaddleGAN/applications/output.zip')"
      ],
      "execution_count": null,
      "outputs": []
    }
  ]
}